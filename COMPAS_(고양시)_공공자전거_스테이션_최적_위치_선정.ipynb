{
  "nbformat": 4,
  "nbformat_minor": 0,
  "metadata": {
    "colab": {
      "name": "COMPAS (고양시) 공공자전거 스테이션 최적 위치 선정 ",
      "provenance": [],
      "collapsed_sections": [],
      "authorship_tag": "ABX9TyO69nJX2JX/MpZMHeitH12r",
      "include_colab_link": true
    },
    "kernelspec": {
      "name": "python3",
      "display_name": "Python 3"
    }
  },
  "cells": [
    {
      "cell_type": "markdown",
      "metadata": {
        "id": "view-in-github",
        "colab_type": "text"
      },
      "source": [
        "<a href=\"https://colab.research.google.com/github/slee159/edu/blob/master/COMPAS_(%EA%B3%A0%EC%96%91%EC%8B%9C)_%EA%B3%B5%EA%B3%B5%EC%9E%90%EC%A0%84%EA%B1%B0_%EC%8A%A4%ED%85%8C%EC%9D%B4%EC%85%98_%EC%B5%9C%EC%A0%81_%EC%9C%84%EC%B9%98_%EC%84%A0%EC%A0%95.ipynb\" target=\"_parent\"><img src=\"https://colab.research.google.com/assets/colab-badge.svg\" alt=\"Open In Colab\"/></a>"
      ]
    },
    {
      "cell_type": "markdown",
      "metadata": {
        "id": "8zo28tOG8gW5",
        "colab_type": "text"
      },
      "source": [
        "# 1. 구글 Colab + Drive 연동"
      ]
    },
    {
      "cell_type": "code",
      "metadata": {
        "id": "YA6bKIQcDpQH",
        "colab_type": "code",
        "colab": {
          "base_uri": "https://localhost:8080/",
          "height": 143
        },
        "outputId": "1950a943-5ea7-45ea-accd-b81603ca3051"
      },
      "source": [
        "from google.colab import drive # import drive from google colab\n",
        "\n",
        "ROOT = \"/content/drive\"     # default location for the drive\n",
        "print(ROOT)                 # print content of ROOT (Optional)\n",
        "drive.mount(ROOT)           # we mount the google drive at /content/drive"
      ],
      "execution_count": null,
      "outputs": [
        {
          "output_type": "stream",
          "text": [
            "/content/drive\n",
            "Go to this URL in a browser: https://accounts.google.com/o/oauth2/auth?client_id=947318989803-6bn6qk8qdgf4n4g3pfee6491hc0brc4i.apps.googleusercontent.com&redirect_uri=urn%3aietf%3awg%3aoauth%3a2.0%3aoob&scope=email%20https%3a%2f%2fwww.googleapis.com%2fauth%2fdocs.test%20https%3a%2f%2fwww.googleapis.com%2fauth%2fdrive%20https%3a%2f%2fwww.googleapis.com%2fauth%2fdrive.photos.readonly%20https%3a%2f%2fwww.googleapis.com%2fauth%2fpeopleapi.readonly&response_type=code\n",
            "\n",
            "Enter your authorization code:\n",
            "··········\n",
            "Mounted at /content/drive\n"
          ],
          "name": "stdout"
        }
      ]
    },
    {
      "cell_type": "code",
      "metadata": {
        "id": "7BsiBODKDsKY",
        "colab_type": "code",
        "colab": {
          "base_uri": "https://localhost:8080/",
          "height": 34
        },
        "outputId": "ea4bd97a-547a-46c0-fc4e-d91b4bb1049c"
      },
      "source": [
        "%pwd"
      ],
      "execution_count": 10,
      "outputs": [
        {
          "output_type": "execute_result",
          "data": {
            "application/vnd.google.colaboratory.intrinsic+json": {
              "type": "string"
            },
            "text/plain": [
              "'/content/drive/My Drive/LSH/빅데이터 교육 관련/대회'"
            ]
          },
          "metadata": {
            "tags": []
          },
          "execution_count": 10
        }
      ]
    },
    {
      "cell_type": "code",
      "metadata": {
        "id": "VHfATdJLEIvC",
        "colab_type": "code",
        "colab": {
          "base_uri": "https://localhost:8080/",
          "height": 34
        },
        "outputId": "e02bd031-17dd-472e-cf02-10451eba152f"
      },
      "source": [
        "%cd drive/'My Drive'/'LSH'/'빅데이터 교육 관련'/'대회'"
      ],
      "execution_count": null,
      "outputs": [
        {
          "output_type": "stream",
          "text": [
            "/content/drive/My Drive/LSH/빅데이터 교육 관련/대회\n"
          ],
          "name": "stdout"
        }
      ]
    },
    {
      "cell_type": "code",
      "metadata": {
        "id": "AxEcFGFvFjTQ",
        "colab_type": "code",
        "colab": {
          "base_uri": "https://localhost:8080/",
          "height": 318
        },
        "outputId": "8ca14578-9302-4c6a-a977-52223ffd64c2"
      },
      "source": [
        "%ls"
      ],
      "execution_count": null,
      "outputs": [
        {
          "output_type": "stream",
          "text": [
            " 01.운영이력.csv                             18.행사장_공간정보.csv\n",
            " 02.자전거스테이션.csv                       19.전철역_공간정보.csv\n",
            " 03.꽃박람회일정.csv                         20.고양시_버스정류소.csv\n",
            " 04.KINTEX행사일정.csv                       21.버스_정류장별_승하차_정보.csv\n",
            " 05.기상정보.csv                             22.주차장정보.csv\n",
            "'06.인구(거주)분포도(100M_X_100M).geojson'   23.고양시덕양구_DEM.img\n",
            " 07.인구통계.csv                             24.고양시일산동구_DEM.img\n",
            "'08.행정경계(시군구).geojson'                25.고양시일산서구_DEM.img\n",
            "'09.행정경계(읍면동).geojson'               '26.고양시 공연장 박물관 정보.csv'\n",
            "'10.도시계획(공간시설).geojson'             '27.고양시 체육시설 현황 정보.csv'\n",
            "'11.도시계획(공공문화체육시설).geojson'      28.코드정의서.xlsx\n",
            "'12.도시계획(교통시설).geojson'             '29.지하철 역별 이용객수.csv'\n",
            "'13.용도지역지구(습지보호지역).geojson'      30.고양시_덕양구_고도.geojson\n",
            " 14.고양시_지적도.geojson                    31.고양시_일산동구_고도.geojson\n",
            " 15.도로명주소_건물.geojson                  32.고양시_일산서구_고도.geojson\n",
            " 16.도로명주소_도로.geojson                  33.고양시_인도.geojson\n",
            "'17.일반건물_분포도(100M_X_100M).geojson'\n"
          ],
          "name": "stdout"
        }
      ]
    },
    {
      "cell_type": "markdown",
      "metadata": {
        "id": "Z314yZOc8t4M",
        "colab_type": "text"
      },
      "source": [
        "# 2. 패키지 설치"
      ]
    },
    {
      "cell_type": "code",
      "metadata": {
        "id": "JzDBbxc68wmz",
        "colab_type": "code",
        "colab": {}
      },
      "source": [
        "!pip install geopandas\n",
        "!pip install geojson"
      ],
      "execution_count": null,
      "outputs": []
    },
    {
      "cell_type": "code",
      "metadata": {
        "id": "JpTsv55JFnBo",
        "colab_type": "code",
        "colab": {
          "base_uri": "https://localhost:8080/",
          "height": 72
        },
        "outputId": "28778167-c12e-4a24-a712-cfb7e8170e64"
      },
      "source": [
        "import pandas as pd\n",
        "from pandas.io import gbq\n",
        "import geopandas as gpd\n",
        "import folium"
      ],
      "execution_count": null,
      "outputs": [
        {
          "output_type": "stream",
          "text": [
            "/usr/local/lib/python3.6/dist-packages/IPython/core/interactiveshell.py:2718: DtypeWarning: Columns (9) have mixed types.Specify dtype option on import or set low_memory=False.\n",
            "  interactivity=interactivity, compiler=compiler, result=result)\n"
          ],
          "name": "stderr"
        }
      ]
    },
    {
      "cell_type": "markdown",
      "metadata": {
        "id": "NcJcZSCr87I8",
        "colab_type": "text"
      },
      "source": [
        "# 3-1. csv 파일 불러오기"
      ]
    },
    {
      "cell_type": "code",
      "metadata": {
        "id": "RHFw9kKv9rHK",
        "colab_type": "code",
        "colab": {
          "base_uri": "https://localhost:8080/",
          "height": 72
        },
        "outputId": "392ad618-1557-4f26-8388-3c7901816d97"
      },
      "source": [
        "df_1 = pd.read_csv('01.운영이력.csv')\n",
        "df_2 = pd.read_csv('02.자전거스테이션.csv')\n",
        "df_3 = pd.read_csv('03.꽃박람회일정.csv')\n",
        "df_4 = pd.read_csv('04.KINTEX행사일정.csv')\n",
        "df_5 = pd.read_csv('05.기상정보.csv')\n",
        "\n",
        "df_7 = pd.read_csv('07.인구통계.csv')\n",
        "\n",
        "# df_18 = pd.read_csv('18.행사장_공간정보.csv')\n",
        "# df_19 = pd.read_csv('19.전철역_공간정보.csv')\n",
        "# df_20 = pd.read_csv('20.고양시_버스정류소.csv')\n",
        "# df_21 = pd.read_csv('21.버스_정류장별_승하차_정보.csv')\n",
        "# df_22 = pd.read_csv('22.주차장정보.csv')\n",
        "# df_26 = pd.read_csv('26.고양시 공연장 박물관 정보.csv')\n",
        "# df_27 = pd.read_csv('27.고양시 체육시설 현황 정보.csv')\n",
        "# df_29 = pd.read_csv('29.지하철 역별 이용객수.csv')\n"
      ],
      "execution_count": 21,
      "outputs": [
        {
          "output_type": "stream",
          "text": [
            "/usr/local/lib/python3.6/dist-packages/IPython/core/interactiveshell.py:2718: DtypeWarning: Columns (9) have mixed types.Specify dtype option on import or set low_memory=False.\n",
            "  interactivity=interactivity, compiler=compiler, result=result)\n"
          ],
          "name": "stderr"
        }
      ]
    },
    {
      "cell_type": "markdown",
      "metadata": {
        "id": "7dcafnD69rid",
        "colab_type": "text"
      },
      "source": [
        "# 3-2. geojson 파일 불러오기"
      ]
    },
    {
      "cell_type": "code",
      "metadata": {
        "id": "ERogG6GBGEtQ",
        "colab_type": "code",
        "colab": {}
      },
      "source": [
        "df_6 = gpd.read_file(\"06.인구(거주)분포도(100M_X_100M).geojson\")\n",
        "# df_8 = gpd.read_file(\"08.행정경계(시군구).geojson\")\n",
        "# df_9 = gpd.read_file(\"09.행정경계(읍면동).geojson\")\n",
        "# df_10 = gpd.read_file(\"10.도시계획(공간시설).geojson\")\n",
        "# df_11 = gpd.read_file(\"11.도시계획(공공문화체육시설).geojson\")\n",
        "# df_12 = gpd.read_file(\"12.도시계획(교통시설).geojson\")\n",
        "# df_13 = gpd.read_file(\"13.용도지역지구(습지보호지역).geojson\")\n",
        "# df_14 = gpd.read_file(\"14.고양시_지적도.geojson\")\n",
        "# df_15 = gpd.read_file(\"15.도로명주소_건물.geojson\")\n",
        "# df_16 = gpd.read_file(\"16.도로명주소_도로.geojson\")\n",
        "# df_17 = gpd.read_file(\"17.일반건물_분포도(100M_X_100M).geojson\")\n",
        "# df_30 = gpd.read_file(\"30.고양시_덕양구_고도.geojson\")\n",
        "# df_31 = gpd.read_file(\"31.고양시_일산동구_고도.geojson\")\n",
        "# df_32 = gpd.read_file(\"32.고양시_일산서구_고도.geojson\")\n",
        "# df_33 = gpd.read_file(\"33.고양시_인도.geojson\")"
      ],
      "execution_count": 23,
      "outputs": []
    },
    {
      "cell_type": "code",
      "metadata": {
        "id": "BYPflmq_IUN6",
        "colab_type": "code",
        "colab": {
          "base_uri": "https://localhost:8080/",
          "height": 87
        },
        "outputId": "4d8db676-7951-4675-a58f-c6543f6e7e7e"
      },
      "source": [
        ""
      ],
      "execution_count": null,
      "outputs": [
        {
          "output_type": "stream",
          "text": [
            "Collecting geojson\n",
            "  Downloading https://files.pythonhosted.org/packages/e4/8d/9e28e9af95739e6d2d2f8d4bef0b3432da40b7c3588fbad4298c1be09e48/geojson-2.5.0-py2.py3-none-any.whl\n",
            "Installing collected packages: geojson\n",
            "Successfully installed geojson-2.5.0\n"
          ],
          "name": "stdout"
        }
      ]
    },
    {
      "cell_type": "markdown",
      "metadata": {
        "id": "u0B3PQBLQ7ex",
        "colab_type": "text"
      },
      "source": [
        ""
      ]
    },
    {
      "cell_type": "code",
      "metadata": {
        "id": "_5Tf1Agy2wvF",
        "colab_type": "code",
        "colab": {}
      },
      "source": [
        "pp_map=folium.Map(location=[37.660686, 126.835563],zoom_start=12)"
      ],
      "execution_count": 17,
      "outputs": []
    },
    {
      "cell_type": "code",
      "metadata": {
        "id": "LTijhTxu2_6U",
        "colab_type": "code",
        "colab": {
          "base_uri": "https://localhost:8080/",
          "height": 404
        },
        "outputId": "4c399f9c-e0d7-48d9-f00d-39ea93a11635"
      },
      "source": [
        "pp_map"
      ],
      "execution_count": 18,
      "outputs": [
        {
          "output_type": "execute_result",
          "data": {
            "text/html": [
              "<div style=\"width:100%;\"><div style=\"position:relative;width:100%;height:0;padding-bottom:60%;\"><span style=\"color:#565656\">Make this Notebook Trusted to load map: File -> Trust Notebook</span><iframe src=\"about:blank\" style=\"position:absolute;width:100%;height:100%;left:0;top:0;border:none !important;\" data-html=PCFET0NUWVBFIGh0bWw+CjxoZWFkPiAgICAKICAgIDxtZXRhIGh0dHAtZXF1aXY9ImNvbnRlbnQtdHlwZSIgY29udGVudD0idGV4dC9odG1sOyBjaGFyc2V0PVVURi04IiAvPgogICAgPHNjcmlwdD5MX1BSRUZFUl9DQU5WQVM9ZmFsc2U7IExfTk9fVE9VQ0g9ZmFsc2U7IExfRElTQUJMRV8zRD1mYWxzZTs8L3NjcmlwdD4KICAgIDxzY3JpcHQgc3JjPSJodHRwczovL2Nkbi5qc2RlbGl2ci5uZXQvbnBtL2xlYWZsZXRAMS40LjAvZGlzdC9sZWFmbGV0LmpzIj48L3NjcmlwdD4KICAgIDxzY3JpcHQgc3JjPSJodHRwczovL2NvZGUuanF1ZXJ5LmNvbS9qcXVlcnktMS4xMi40Lm1pbi5qcyI+PC9zY3JpcHQ+CiAgICA8c2NyaXB0IHNyYz0iaHR0cHM6Ly9tYXhjZG4uYm9vdHN0cmFwY2RuLmNvbS9ib290c3RyYXAvMy4yLjAvanMvYm9vdHN0cmFwLm1pbi5qcyI+PC9zY3JpcHQ+CiAgICA8c2NyaXB0IHNyYz0iaHR0cHM6Ly9jZG5qcy5jbG91ZGZsYXJlLmNvbS9hamF4L2xpYnMvTGVhZmxldC5hd2Vzb21lLW1hcmtlcnMvMi4wLjIvbGVhZmxldC5hd2Vzb21lLW1hcmtlcnMuanMiPjwvc2NyaXB0PgogICAgPGxpbmsgcmVsPSJzdHlsZXNoZWV0IiBocmVmPSJodHRwczovL2Nkbi5qc2RlbGl2ci5uZXQvbnBtL2xlYWZsZXRAMS40LjAvZGlzdC9sZWFmbGV0LmNzcyIvPgogICAgPGxpbmsgcmVsPSJzdHlsZXNoZWV0IiBocmVmPSJodHRwczovL21heGNkbi5ib290c3RyYXBjZG4uY29tL2Jvb3RzdHJhcC8zLjIuMC9jc3MvYm9vdHN0cmFwLm1pbi5jc3MiLz4KICAgIDxsaW5rIHJlbD0ic3R5bGVzaGVldCIgaHJlZj0iaHR0cHM6Ly9tYXhjZG4uYm9vdHN0cmFwY2RuLmNvbS9ib290c3RyYXAvMy4yLjAvY3NzL2Jvb3RzdHJhcC10aGVtZS5taW4uY3NzIi8+CiAgICA8bGluayByZWw9InN0eWxlc2hlZXQiIGhyZWY9Imh0dHBzOi8vbWF4Y2RuLmJvb3RzdHJhcGNkbi5jb20vZm9udC1hd2Vzb21lLzQuNi4zL2Nzcy9mb250LWF3ZXNvbWUubWluLmNzcyIvPgogICAgPGxpbmsgcmVsPSJzdHlsZXNoZWV0IiBocmVmPSJodHRwczovL2NkbmpzLmNsb3VkZmxhcmUuY29tL2FqYXgvbGlicy9MZWFmbGV0LmF3ZXNvbWUtbWFya2Vycy8yLjAuMi9sZWFmbGV0LmF3ZXNvbWUtbWFya2Vycy5jc3MiLz4KICAgIDxsaW5rIHJlbD0ic3R5bGVzaGVldCIgaHJlZj0iaHR0cHM6Ly9yYXdjZG4uZ2l0aGFjay5jb20vcHl0aG9uLXZpc3VhbGl6YXRpb24vZm9saXVtL21hc3Rlci9mb2xpdW0vdGVtcGxhdGVzL2xlYWZsZXQuYXdlc29tZS5yb3RhdGUuY3NzIi8+CiAgICA8c3R5bGU+aHRtbCwgYm9keSB7d2lkdGg6IDEwMCU7aGVpZ2h0OiAxMDAlO21hcmdpbjogMDtwYWRkaW5nOiAwO308L3N0eWxlPgogICAgPHN0eWxlPiNtYXAge3Bvc2l0aW9uOmFic29sdXRlO3RvcDowO2JvdHRvbTowO3JpZ2h0OjA7bGVmdDowO308L3N0eWxlPgogICAgCiAgICA8bWV0YSBuYW1lPSJ2aWV3cG9ydCIgY29udGVudD0id2lkdGg9ZGV2aWNlLXdpZHRoLAogICAgICAgIGluaXRpYWwtc2NhbGU9MS4wLCBtYXhpbXVtLXNjYWxlPTEuMCwgdXNlci1zY2FsYWJsZT1ubyIgLz4KICAgIDxzdHlsZT4jbWFwX2Y4OWFjNzc4YmNlNjRkZTY5NGM0NDQ4MGZkMjU0MGM3IHsKICAgICAgICBwb3NpdGlvbjogcmVsYXRpdmU7CiAgICAgICAgd2lkdGg6IDEwMC4wJTsKICAgICAgICBoZWlnaHQ6IDEwMC4wJTsKICAgICAgICBsZWZ0OiAwLjAlOwogICAgICAgIHRvcDogMC4wJTsKICAgICAgICB9CiAgICA8L3N0eWxlPgo8L2hlYWQ+Cjxib2R5PiAgICAKICAgIAogICAgPGRpdiBjbGFzcz0iZm9saXVtLW1hcCIgaWQ9Im1hcF9mODlhYzc3OGJjZTY0ZGU2OTRjNDQ0ODBmZDI1NDBjNyIgPjwvZGl2Pgo8L2JvZHk+CjxzY3JpcHQ+ICAgIAogICAgCiAgICAKICAgICAgICB2YXIgYm91bmRzID0gbnVsbDsKICAgIAoKICAgIHZhciBtYXBfZjg5YWM3NzhiY2U2NGRlNjk0YzQ0NDgwZmQyNTQwYzcgPSBMLm1hcCgKICAgICAgICAnbWFwX2Y4OWFjNzc4YmNlNjRkZTY5NGM0NDQ4MGZkMjU0MGM3JywgewogICAgICAgIGNlbnRlcjogWzM3LjY2MDY4NiwgMTI2LjgzNTU2M10sCiAgICAgICAgem9vbTogMTIsCiAgICAgICAgbWF4Qm91bmRzOiBib3VuZHMsCiAgICAgICAgbGF5ZXJzOiBbXSwKICAgICAgICB3b3JsZENvcHlKdW1wOiBmYWxzZSwKICAgICAgICBjcnM6IEwuQ1JTLkVQU0czODU3LAogICAgICAgIHpvb21Db250cm9sOiB0cnVlLAogICAgICAgIH0pOwoKCiAgICAKICAgIHZhciB0aWxlX2xheWVyXzgwMjkzNmQyYjBiYjRiMDZhMmYxMjVkMjA1ZTM5NTAwID0gTC50aWxlTGF5ZXIoCiAgICAgICAgJ2h0dHBzOi8ve3N9LnRpbGUub3BlbnN0cmVldG1hcC5vcmcve3p9L3t4fS97eX0ucG5nJywKICAgICAgICB7CiAgICAgICAgImF0dHJpYnV0aW9uIjogbnVsbCwKICAgICAgICAiZGV0ZWN0UmV0aW5hIjogZmFsc2UsCiAgICAgICAgIm1heE5hdGl2ZVpvb20iOiAxOCwKICAgICAgICAibWF4Wm9vbSI6IDE4LAogICAgICAgICJtaW5ab29tIjogMCwKICAgICAgICAibm9XcmFwIjogZmFsc2UsCiAgICAgICAgIm9wYWNpdHkiOiAxLAogICAgICAgICJzdWJkb21haW5zIjogImFiYyIsCiAgICAgICAgInRtcyI6IGZhbHNlCn0pLmFkZFRvKG1hcF9mODlhYzc3OGJjZTY0ZGU2OTRjNDQ0ODBmZDI1NDBjNyk7Cjwvc2NyaXB0Pg== onload=\"this.contentDocument.open();this.contentDocument.write(atob(this.getAttribute('data-html')));this.contentDocument.close();\" allowfullscreen webkitallowfullscreen mozallowfullscreen></iframe></div></div>"
            ],
            "text/plain": [
              "<folium.folium.Map at 0x7efd520d9860>"
            ]
          },
          "metadata": {
            "tags": []
          },
          "execution_count": 18
        }
      ]
    },
    {
      "cell_type": "code",
      "metadata": {
        "id": "Cq2uPrzH3IHV",
        "colab_type": "code",
        "colab": {}
      },
      "source": [
        ""
      ],
      "execution_count": null,
      "outputs": []
    }
  ]
}