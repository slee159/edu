{
  "nbformat": 4,
  "nbformat_minor": 0,
  "metadata": {
    "colab": {
      "name": "17일차_200819 (2) - 구글 드라이브 + 코랩 연동 (house_price_train).ipynb",
      "provenance": [],
      "collapsed_sections": [],
      "authorship_tag": "ABX9TyO8oAfGa80SgRis08zfHVK3",
      "include_colab_link": true
    },
    "kernelspec": {
      "name": "python3",
      "display_name": "Python 3"
    }
  },
  "cells": [
    {
      "cell_type": "markdown",
      "metadata": {
        "id": "view-in-github",
        "colab_type": "text"
      },
      "source": [
        "<a href=\"https://colab.research.google.com/github/slee159/edu/blob/master/17%EC%9D%BC%EC%B0%A8_200819_(2)_%EA%B5%AC%EA%B8%80_%EB%93%9C%EB%9D%BC%EC%9D%B4%EB%B8%8C_%2B_%EC%BD%94%EB%9E%A9_%EC%97%B0%EB%8F%99_(house_price_train).ipynb\" target=\"_parent\"><img src=\"https://colab.research.google.com/assets/colab-badge.svg\" alt=\"Open In Colab\"/></a>"
      ]
    },
    {
      "cell_type": "code",
      "metadata": {
        "id": "1tABt0PjUq48",
        "colab_type": "code",
        "colab": {
          "base_uri": "https://localhost:8080/",
          "height": 143
        },
        "outputId": "4a19444d-290c-4433-fcbe-2ab413ae2c24"
      },
      "source": [
        "# https://chloevan.github.io/settings/colab_drive_github_settings/\n",
        "\n",
        "# Mount Google Drive\n",
        "from google.colab import drive # import drive from google colab\n",
        "\n",
        "ROOT = \"/content/drive\"     # default location for the drive\n",
        "print(ROOT)                 # print content of ROOT (Optional)\n",
        "drive.mount(ROOT)           # we mount the google drive at /content/drive"
      ],
      "execution_count": null,
      "outputs": [
        {
          "output_type": "stream",
          "text": [
            "/content/drive\n",
            "Go to this URL in a browser: https://accounts.google.com/o/oauth2/auth?client_id=947318989803-6bn6qk8qdgf4n4g3pfee6491hc0brc4i.apps.googleusercontent.com&redirect_uri=urn%3aietf%3awg%3aoauth%3a2.0%3aoob&scope=email%20https%3a%2f%2fwww.googleapis.com%2fauth%2fdocs.test%20https%3a%2f%2fwww.googleapis.com%2fauth%2fdrive%20https%3a%2f%2fwww.googleapis.com%2fauth%2fdrive.photos.readonly%20https%3a%2f%2fwww.googleapis.com%2fauth%2fpeopleapi.readonly&response_type=code\n",
            "\n",
            "Enter your authorization code:\n",
            "··········\n",
            "Mounted at /content/drive\n"
          ],
          "name": "stdout"
        }
      ]
    },
    {
      "cell_type": "code",
      "metadata": {
        "id": "a71a88GuU0v7",
        "colab_type": "code",
        "colab": {
          "base_uri": "https://localhost:8080/",
          "height": 34
        },
        "outputId": "3c8c682c-8ed6-40ce-b0ff-eff426c4faf4"
      },
      "source": [
        "# 구글 드라이브 내 폴더 설정\n",
        "\n",
        "%cd drive/'My Drive'/'Colab Notebooks'/'house_price_train'"
      ],
      "execution_count": null,
      "outputs": [
        {
          "output_type": "stream",
          "text": [
            "/content/drive/My Drive/Colab Notebooks/house_price_train\n"
          ],
          "name": "stdout"
        }
      ]
    },
    {
      "cell_type": "code",
      "metadata": {
        "id": "idIuoyszU_ix",
        "colab_type": "code",
        "colab": {
          "base_uri": "https://localhost:8080/",
          "height": 90
        },
        "outputId": "dbc712e4-4840-490b-aecf-4a0a3122f278"
      },
      "source": [
        "# 새로 만든 빅쿼리 - 데이터세트 안에 csv 파일 넣기\n",
        "# (이미 csv 파일은 내 drive 안에 저장되어 있어야 함)\n",
        "\n",
        "import pandas as pd\n",
        "from pandas.io import gbq\n",
        "\n",
        "# import sample_submission file\n",
        "sample_submission = pd.read_csv('sample_submission.csv')\n",
        "\n",
        "# Connect to Google Cloud API and Upload DataFrame\n",
        "sample_submission.to_gbq(destination_table='house_price_train.sample_submission', \n",
        "                  project_id='warm-rock-286903', # 내 빅쿼리 아이디를 입력해야 함\n",
        "                  if_exists='replace')"
      ],
      "execution_count": null,
      "outputs": [
        {
          "output_type": "stream",
          "text": [
            "Please visit this URL to authorize this application: https://accounts.google.com/o/oauth2/auth?response_type=code&client_id=725825577420-unm2gnkiprugilg743tkbig250f4sfsj.apps.googleusercontent.com&redirect_uri=urn%3Aietf%3Awg%3Aoauth%3A2.0%3Aoob&scope=https%3A%2F%2Fwww.googleapis.com%2Fauth%2Fbigquery&state=f63Bwg3pILBuLwz6HZ4ZJUD3VvMbxj&prompt=consent&access_type=offline\n",
            "Enter the authorization code: 4/3AEj8Nn1DApgUid_oSxV04xR9TU_abW6TDFpjIVku-E3maaTuKtn4DM\n"
          ],
          "name": "stdout"
        },
        {
          "output_type": "stream",
          "text": [
            "1it [00:03,  3.47s/it]\n"
          ],
          "name": "stderr"
        }
      ]
    },
    {
      "cell_type": "code",
      "metadata": {
        "id": "PJvUwYhGYKfq",
        "colab_type": "code",
        "colab": {}
      },
      "source": [
        "# Invalid field name \"1stFlrSF\" 오류 해결 -> 이름을 바꿔줘야 실행됨...!\n",
        "\n",
        "colnames_dict = {\"1stFlrSF\": \"my1stFlrSF\", \"2ndFlrSF\": \"my2ndFlrSF\", \"3SsnPorch\": \"my3SsnPorch\"} \n",
        "test = test.rename(columns=colnames_dict)\n",
        "train = train.rename(columns=colnames_dict)"
      ],
      "execution_count": null,
      "outputs": []
    },
    {
      "cell_type": "code",
      "metadata": {
        "id": "JbP-7qNOXEuK",
        "colab_type": "code",
        "colab": {}
      },
      "source": [
        "test = pd.read_csv('test.csv')\n",
        "train = pd.read_csv('train.csv')"
      ],
      "execution_count": null,
      "outputs": []
    },
    {
      "cell_type": "code",
      "metadata": {
        "id": "Fo_nQU5kXIyY",
        "colab_type": "code",
        "colab": {
          "base_uri": "https://localhost:8080/",
          "height": 34
        },
        "outputId": "1d8ceabc-56d5-42cd-dfec-fc86bb1956b8"
      },
      "source": [
        "test.to_gbq(destination_table='house_price_train.test', \n",
        "                  project_id='warm-rock-286903', # 내 빅쿼리 아이디를 입력해야 함\n",
        "                  if_exists='replace')"
      ],
      "execution_count": null,
      "outputs": [
        {
          "output_type": "stream",
          "text": [
            "1it [00:03,  3.42s/it]\n"
          ],
          "name": "stderr"
        }
      ]
    },
    {
      "cell_type": "code",
      "metadata": {
        "id": "0q6gbzANY7t5",
        "colab_type": "code",
        "colab": {
          "base_uri": "https://localhost:8080/",
          "height": 34
        },
        "outputId": "67188acf-b239-4f97-9b70-d29995e179b7"
      },
      "source": [
        "train.to_gbq(destination_table='house_price_train.train', \n",
        "                  project_id='warm-rock-286903', # 내 빅쿼리 아이디를 입력해야 함\n",
        "                  if_exists='replace')"
      ],
      "execution_count": null,
      "outputs": [
        {
          "output_type": "stream",
          "text": [
            "1it [00:04,  4.34s/it]\n"
          ],
          "name": "stderr"
        }
      ]
    }
  ]
}