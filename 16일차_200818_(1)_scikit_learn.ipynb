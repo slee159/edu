{
  "nbformat": 4,
  "nbformat_minor": 0,
  "metadata": {
    "colab": {
      "name": "16일차_200818 (1) - scikit-learn",
      "provenance": [],
      "toc_visible": true,
      "authorship_tag": "ABX9TyMCqH/PGMbPDhKfTzoMnM/t",
      "include_colab_link": true
    },
    "kernelspec": {
      "name": "python3",
      "display_name": "Python 3"
    }
  },
  "cells": [
    {
      "cell_type": "markdown",
      "metadata": {
        "id": "view-in-github",
        "colab_type": "text"
      },
      "source": [
        "<a href=\"https://colab.research.google.com/github/slee159/edu/blob/master/16%EC%9D%BC%EC%B0%A8_200818_(1)_scikit_learn.ipynb\" target=\"_parent\"><img src=\"https://colab.research.google.com/assets/colab-badge.svg\" alt=\"Open In Colab\"/></a>"
      ]
    },
    {
      "cell_type": "code",
      "metadata": {
        "id": "9C82BXnz-tKV",
        "colab_type": "code",
        "colab": {
          "base_uri": "https://localhost:8080/",
          "height": 34
        },
        "outputId": "0286a8ca-4551-414a-f8dd-c5edd05091c0"
      },
      "source": [
        "import sklearn\n",
        "print(sklearn.__version__)"
      ],
      "execution_count": 2,
      "outputs": [
        {
          "output_type": "stream",
          "text": [
            "0.22.2.post1\n"
          ],
          "name": "stdout"
        }
      ]
    },
    {
      "cell_type": "markdown",
      "metadata": {
        "id": "AOjtf4DCA90u",
        "colab_type": "text"
      },
      "source": [
        "## 1. 개요(목차는 ##로 만듦)\n",
        "- IRIS 붓꽃 분류 모형을 만든다."
      ]
    },
    {
      "cell_type": "markdown",
      "metadata": {
        "id": "NFpTL1H-A_82",
        "colab_type": "text"
      },
      "source": [
        "### (1) 패키지 불러오기 (아래 level은 ###로 만듦)\n",
        "- sklearn 패키지를 불러온다."
      ]
    },
    {
      "cell_type": "markdown",
      "metadata": {
        "id": "ElV98dPIBiQP",
        "colab_type": "text"
      },
      "source": [
        "#### (1) 데이터 불러오기\n",
        "- sklearn 패키지 내장 데이터 있음"
      ]
    },
    {
      "cell_type": "code",
      "metadata": {
        "id": "hW_vF3UgBnHD",
        "colab_type": "code",
        "colab": {
          "base_uri": "https://localhost:8080/",
          "height": 52
        },
        "outputId": "2ebfec81-8609-4412-f94a-dad56bbb238e"
      },
      "source": [
        "from sklearn.datasets import load_iris\n",
        "\n",
        "iris = load_iris() # IRIS 내장 데이터는 Bunch 형태의 데이터셋으로 구성되어 있음\n",
        "\n",
        "# 독립변수로 구성된 데이터\n",
        "iris_data = iris.data\n",
        "\n",
        "# 종속변수\n",
        "iris_label = iris.target\n",
        "print('iris target 값 :', iris_label[[0,50,100]]) # iris의 0번째, 50번째, 100번째 값을 출력\n",
        "print('iris target 명 :', iris.target_names)\n",
        "\n"
      ],
      "execution_count": 5,
      "outputs": [
        {
          "output_type": "stream",
          "text": [
            "iris target 값 : [0 1 2]\n",
            "iris target 명 : ['setosa' 'versicolor' 'virginica']\n"
          ],
          "name": "stdout"
        }
      ]
    },
    {
      "cell_type": "markdown",
      "metadata": {
        "id": "dkDvvydtEV5n",
        "colab_type": "text"
      },
      "source": [
        "#### (2) 데이터 전처리\n",
        "- 상황: 현재 iris 데이터는 NumPy 형태, 리스트 형태임\n",
        "- 방법: pandas를 활용해서, 데이터 프레임 만들기\n"
      ]
    },
    {
      "cell_type": "code",
      "metadata": {
        "id": "k2G7ysu5EgQT",
        "colab_type": "code",
        "colab": {
          "base_uri": "https://localhost:8080/",
          "height": 197
        },
        "outputId": "f534d8b9-6a54-42da-8465-617dd23e9a48"
      },
      "source": [
        "import pandas as pd\n",
        "iris_df = pd.DataFrame(iris_data,columns = ['Sepal Length', \"Sepal Width\", 'Petal Length', 'Petal Width'] )\n",
        "iris_df.head(5)"
      ],
      "execution_count": 21,
      "outputs": [
        {
          "output_type": "execute_result",
          "data": {
            "text/html": [
              "<div>\n",
              "<style scoped>\n",
              "    .dataframe tbody tr th:only-of-type {\n",
              "        vertical-align: middle;\n",
              "    }\n",
              "\n",
              "    .dataframe tbody tr th {\n",
              "        vertical-align: top;\n",
              "    }\n",
              "\n",
              "    .dataframe thead th {\n",
              "        text-align: right;\n",
              "    }\n",
              "</style>\n",
              "<table border=\"1\" class=\"dataframe\">\n",
              "  <thead>\n",
              "    <tr style=\"text-align: right;\">\n",
              "      <th></th>\n",
              "      <th>Sepal Length</th>\n",
              "      <th>Sepal Width</th>\n",
              "      <th>Petal Length</th>\n",
              "      <th>Petal Width</th>\n",
              "    </tr>\n",
              "  </thead>\n",
              "  <tbody>\n",
              "    <tr>\n",
              "      <th>0</th>\n",
              "      <td>5.1</td>\n",
              "      <td>3.5</td>\n",
              "      <td>1.4</td>\n",
              "      <td>0.2</td>\n",
              "    </tr>\n",
              "    <tr>\n",
              "      <th>1</th>\n",
              "      <td>4.9</td>\n",
              "      <td>3.0</td>\n",
              "      <td>1.4</td>\n",
              "      <td>0.2</td>\n",
              "    </tr>\n",
              "    <tr>\n",
              "      <th>2</th>\n",
              "      <td>4.7</td>\n",
              "      <td>3.2</td>\n",
              "      <td>1.3</td>\n",
              "      <td>0.2</td>\n",
              "    </tr>\n",
              "    <tr>\n",
              "      <th>3</th>\n",
              "      <td>4.6</td>\n",
              "      <td>3.1</td>\n",
              "      <td>1.5</td>\n",
              "      <td>0.2</td>\n",
              "    </tr>\n",
              "    <tr>\n",
              "      <th>4</th>\n",
              "      <td>5.0</td>\n",
              "      <td>3.6</td>\n",
              "      <td>1.4</td>\n",
              "      <td>0.2</td>\n",
              "    </tr>\n",
              "  </tbody>\n",
              "</table>\n",
              "</div>"
            ],
            "text/plain": [
              "   Sepal Length  Sepal Width  Petal Length  Petal Width\n",
              "0           5.1          3.5           1.4          0.2\n",
              "1           4.9          3.0           1.4          0.2\n",
              "2           4.7          3.2           1.3          0.2\n",
              "3           4.6          3.1           1.5          0.2\n",
              "4           5.0          3.6           1.4          0.2"
            ]
          },
          "metadata": {
            "tags": []
          },
          "execution_count": 21
        }
      ]
    }
  ]
}